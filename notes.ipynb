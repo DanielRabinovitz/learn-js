{
 "cells": [
  {
   "cell_type": "markdown",
   "metadata": {},
   "source": [
    "more javascript lol"
   ]
  },
  {
   "cell_type": "markdown",
   "metadata": {},
   "source": [
    "[...array] does magic somehow"
   ]
  },
  {
   "cell_type": "markdown",
   "metadata": {},
   "source": [
    "try{}\n",
    "catch(error){}\n",
    "\n",
    "is the same as in other stuff"
   ]
  },
  {
   "cell_type": "markdown",
   "metadata": {},
   "source": [
    "Classes (but like not really).\n",
    "\n",
    "A template for a JS object.\n",
    "\n",
    "Has a constructor to intialize both fields as well as methods that can change the state of an object.\n",
    "\n",
    "Class fields are private by declaring them with #[field_name].\n",
    "Classes inherit, inheritance uses *extends [parent_name]* and children use super() to call parent methods.\n",
    "\n",
    "Class methods are a thing with set and get being special keywords. Used as methods, .method()\n",
    "\n",
    "Getters and setters exist.\n",
    "E.g. \n",
    "//_fieldname is a naming convention for class fields\n",
    "constructor(name, year){\n",
    "    this._name = name;\n",
    "    this._year = year;\n",
    "}\n",
    "get name() {return this._name;}\n",
    "set name(n) {this._name = n;}\n",
    "\n",
    "Then in code\n",
    "let p = new Person(\"Gal\", 1984);\n",
    "const p_name = p.name; //using get\n",
    "p.name = \"Hal\"; //using set"
   ]
  },
  {
   "cell_type": "markdown",
   "metadata": {},
   "source": [
    "Modules are a thing in JS similar to how they are in python.\n",
    "\n",
    "In JS anything in your JS file that you want accsesible to another program, you put the export keyword somewhere.\n",
    "\n",
    "If you want some stuff exported while other stuff is private, you use export before a specific thing.\n",
    "\n",
    "        E.g. \n",
    "\n",
    "        export const name = 'square';\n",
    "\n",
    "        export function draw(length, x, y){\n",
    "            ...\n",
    "        }\n",
    "\n",
    "        Or you can list the specific names of things to export\n",
    "\n",
    "        E.g. \n",
    "\n",
    "        export{name, draw}\n",
    "\n",
    "You can put JS modules directly into HTML like this:\n",
    "        <script type=\"module\" src=\"module_source.js\">\n",
    "            ...\n",
    "        </script>\n",
    "\n",
    "But in a normal JS file you just use import statements like in other languages.\n",
    "        E.g.\n",
    "        import { add, multiply } from './math.js';\n",
    "\n",
    "There is no way to say \"Export all\" or \"import all?\" I don't believe that.\n",
    "\n",
    "You need to use a backend server to run modules or else the browser gets angy :3\n",
    "If you get a \"Cross Origin Request (CORE)\" error it means you screwed up your imports."
   ]
  }
 ],
 "metadata": {
  "language_info": {
   "name": "python"
  }
 },
 "nbformat": 4,
 "nbformat_minor": 2
}
